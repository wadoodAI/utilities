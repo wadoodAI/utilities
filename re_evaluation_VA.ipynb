{
 "cells": [
  {
   "cell_type": "code",
   "execution_count": null,
   "id": "7f46657d",
   "metadata": {
    "scrolled": true
   },
   "outputs": [],
   "source": [
    "from johnsnowlabs import nlp, medical, visual\n",
    "import pandas as pd\n",
    "import json\n",
    "import string\n",
    "import numpy as np\n",
    "import warnings\n",
    "\n",
    "warnings.filterwarnings('ignore')\n",
    "spark = nlp.start()\n",
    "\n",
    "from pyspark.sql import DataFrame\n",
    "import pyspark.sql.functions as F\n",
    "import pyspark.sql.types as T\n",
    "import pyspark.sql as SQL\n",
    "from pyspark import keyword_only\n",
    "\n",
    "from sklearn.metrics import classification_report"
   ]
  },
  {
   "cell_type": "code",
   "execution_count": null,
   "id": "d04d1734",
   "metadata": {},
   "outputs": [],
   "source": []
  },
  {
   "cell_type": "code",
   "execution_count": null,
   "id": "f478727d-3084-40cc-af5a-85e3770e7536",
   "metadata": {},
   "outputs": [],
   "source": []
  },
  {
   "cell_type": "code",
   "execution_count": null,
   "id": "7cc1af13",
   "metadata": {
    "scrolled": true
   },
   "outputs": [],
   "source": [
    "data = spark.read.parquet(test_path)\n",
    "\n",
    "# map entity columns to dataset columns\n",
    "column_map = {\n",
    "    \"begin1\": \"firstCharEnt1\",\n",
    "    \"end1\": \"lastCharEnt1\",\n",
    "    \"begin2\": \"firstCharEnt2\",\n",
    "    \"end2\": \"lastCharEnt2\",\n",
    "    \"chunk1\": \"chunk1\",\n",
    "    \"chunk2\": \"chunk2\",\n",
    "    \"label1\": \"label1\",\n",
    "    \"label2\": \"label2\"\n",
    "}\n",
    "\n",
    "# apply preprocess function to dataframe\n",
    "data = medical.REDatasetHelper(data).create_annotation_column(\n",
    "    column_map,\n",
    "    ner_column_name=\"train_ner_chunks\" # optional, default train_ner_chunks\n",
    ")"
   ]
  },
  {
   "cell_type": "code",
   "execution_count": null,
   "id": "024cd33d",
   "metadata": {
    "scrolled": true
   },
   "outputs": [],
   "source": [
    "documenter = nlp.DocumentAssembler()\\\n",
    "    .setInputCol(\"sentence\")\\\n",
    "    .setOutputCol(\"sentences\")\n",
    "\n",
    "tokenizer = nlp.Tokenizer()\\\n",
    "    .setInputCols([\"sentences\"])\\\n",
    "    .setOutputCol(\"tokens\")\\\n",
    "\n",
    "words_embedder = nlp.WordEmbeddingsModel()\\\n",
    "    .pretrained(\"embeddings_clinical\", \"en\", \"clinical/models\")\\\n",
    "    .setInputCols([\"sentences\", \"tokens\"])\\\n",
    "    .setOutputCol(\"embeddings\")\n",
    "\n",
    "pos_tagger = nlp.PerceptronModel()\\\n",
    "    .pretrained(\"pos_clinical\", \"en\", \"clinical/models\") \\\n",
    "    .setInputCols([\"sentences\", \"tokens\"])\\\n",
    "    .setOutputCol(\"pos_tags\")\n",
    "\n",
    "dependency_parser = nlp.DependencyParserModel()\\\n",
    "    .pretrained(\"dependency_conllu\", \"en\")\\\n",
    "    .setInputCols([\"sentences\", \"pos_tags\", \"tokens\"])\\\n",
    "    .setOutputCol(\"dependencies\")\n",
    "\n",
    "finisher = nlp.Finisher()\\\n",
    "    .setInputCols([\"relations\"])\\\n",
    "    .setOutputCols([\"relations_out\"])\\\n",
    "    .setCleanAnnotations(False)\\\n",
    "    .setValueSplitSymbol(\",\")\\\n",
    "    .setAnnotationSplitSymbol(\",\")\\\n",
    "    .setOutputAsArray(False)"
   ]
  },
  {
   "cell_type": "code",
   "execution_count": null,
   "id": "c32d3975",
   "metadata": {
    "scrolled": true
   },
   "outputs": [],
   "source": [
    "clinical_re_Model = medical.RelationExtractionModel()\\\n",
    "    .pretrained(\"re_oncology_temporal_wip\", \"en\", 'clinical/models')\\\n",
    "    .setInputCols([\"embeddings\", \"pos_tags\", \"train_ner_chunks\", \"dependencies\"])\\\n",
    "    .setOutputCol(\"relations\")\n",
    "\n",
    "clinical_re_Model.getClasses()"
   ]
  },
  {
   "cell_type": "code",
   "execution_count": null,
   "id": "4940245c",
   "metadata": {},
   "outputs": [],
   "source": [
    "finetune_pipeline = nlp.Pipeline(stages=[\n",
    "    documenter,\n",
    "    tokenizer,\n",
    "    words_embedder,\n",
    "    pos_tagger,\n",
    "    dependency_parser,\n",
    "    clinical_re_Model,\n",
    "    finisher\n",
    "])"
   ]
  },
  {
   "cell_type": "markdown",
   "id": "aba2c210-003d-4332-9ebf-de57a49de012",
   "metadata": {},
   "source": [
    "## Inference"
   ]
  },
  {
   "cell_type": "code",
   "execution_count": null,
   "id": "6e96d383-fef1-4bb1-b770-ce2e6a39c482",
   "metadata": {
    "scrolled": true
   },
   "outputs": [],
   "source": [
    "%%time\n",
    "result = finetune_pipeline.fit(data).transform(data)\n",
    "result_df = result.toPandas()\n",
    "\n",
    "result_df.shape"
   ]
  },
  {
   "cell_type": "code",
   "execution_count": null,
   "id": "5c1ec0cf-2dc0-4194-817e-2d6dde17dc20",
   "metadata": {},
   "outputs": [],
   "source": []
  },
  {
   "cell_type": "code",
   "execution_count": null,
   "id": "cd63e4bd-a496-4d47-bfe8-73157c8654bd",
   "metadata": {},
   "outputs": [],
   "source": []
  },
  {
   "cell_type": "markdown",
   "id": "68db7ead-26bf-4c0f-8490-286366c639fd",
   "metadata": {},
   "source": [
    "# Examples - Visulalization"
   ]
  },
  {
   "cell_type": "code",
   "execution_count": null,
   "id": "e4f5e5c9-2a06-40a8-a867-8979d409216f",
   "metadata": {},
   "outputs": [],
   "source": [
    "import re\n",
    "\n",
    "def printh(text, pattern, color=\"cyan\", raise_errors=False, escape=False):\n",
    "    \"\"\"Highlight `pattern` while printing `text` in console.\n",
    "    The `pattern` can be a regex pattern or plain text. If `pattern` is\n",
    "    plain text, it must be an exact match within `text`.\n",
    "    In case of multiple matches, all the matches will be highlighted.\n",
    "\n",
    "    `color` value must be one of following:\n",
    "     - black\n",
    "     - red\n",
    "     - green\n",
    "     - yellow\n",
    "     - blue\n",
    "     - magenta\n",
    "     - cyan\n",
    "     - white\n",
    "\n",
    "    Input:\n",
    "     - text(string): full text to print\n",
    "     - pattern(string): a regex-like pattern or simple string\n",
    "     - color(string): color of output\n",
    "     - raise_errors(bool): raise errors when no match found\n",
    "     - escape(bool): escape special characters in `pattern`\n",
    "    \"\"\"\n",
    "\n",
    "    COLOR_MAP = {\n",
    "     'black': 0,\n",
    "     'red': 1,\n",
    "     'green': 2,\n",
    "     'yellow': 3,\n",
    "     'blue': 4,\n",
    "     'magenta': 5,\n",
    "     'cyan': 6,\n",
    "     'white': 7\n",
    "    }\n",
    "\n",
    "    if escape:\n",
    "        pattern = re.escape(pattern)\n",
    "\n",
    "    matches = list(re.finditer(pattern.lower(), text.lower()))\n",
    "    if (not matches) & raise_errors:\n",
    "        error = (\"An exact of pattern '{pattern}' could not be found\"\n",
    "                 f\" within text '{text}'\")\n",
    "        raise Exception(error)\n",
    "    else:\n",
    "        color_prefix = \"\\033[39;4{}m\".format(COLOR_MAP.get(color, 9))\n",
    "        color_suffix = \"\\033[m\"\n",
    "\n",
    "        for i, match in enumerate(matches):\n",
    "            start, end = match.span()\n",
    "            offset = len(color_prefix + color_suffix) * i\n",
    "            start, end = start + offset, end + offset\n",
    "            text = f\"{text[:start]}{color_prefix}{text[start:end]}{color_suffix}{text[end:]}\"\n",
    "        print(text)\n",
    "\n",
    "\n",
    "def visualize_example(example):\n",
    "    # print(\"-\"*8)\n",
    "    print(f\"Event: {example.chunk1}, Date: {example.chunk2}, JSL Prediction: {example.relations_out}\")\n",
    "    print(\"-\"*8)\n",
    "    printh(example.sentence, example.chunk1)\n",
    "    print(\"=\"*8)"
   ]
  },
  {
   "cell_type": "code",
   "execution_count": null,
   "id": "4373780e-8f9b-4770-9f04-498baea4274c",
   "metadata": {},
   "outputs": [],
   "source": []
  },
  {
   "cell_type": "code",
   "execution_count": null,
   "id": "58c8ab71-1d64-4947-83d4-f0d0a54c359f",
   "metadata": {},
   "outputs": [],
   "source": [
    "for index, row in result_df.iterrows():\n",
    "    visualize_example(row)\n",
    "    # print(\"+\"*8)"
   ]
  },
  {
   "cell_type": "code",
   "execution_count": null,
   "id": "04c60f4d-0162-4999-a3da-b443accb1367",
   "metadata": {
    "scrolled": true
   },
   "outputs": [],
   "source": []
  }
 ],
 "metadata": {
  "kernelspec": {
   "display_name": "Python 3 (ipykernel)",
   "language": "python",
   "name": "python3"
  },
  "language_info": {
   "codemirror_mode": {
    "name": "ipython",
    "version": 3
   },
   "file_extension": ".py",
   "mimetype": "text/x-python",
   "name": "python",
   "nbconvert_exporter": "python",
   "pygments_lexer": "ipython3",
   "version": "3.10.10"
  }
 },
 "nbformat": 4,
 "nbformat_minor": 5
}
