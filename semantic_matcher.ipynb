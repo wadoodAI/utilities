{
 "cells": [
  {
   "cell_type": "code",
   "execution_count": null,
   "id": "ac664f15-ab5d-441f-98dd-0a78417b5156",
   "metadata": {},
   "outputs": [],
   "source": [
    "from collections import Counter, defaultdict\n",
    "from copy import deepcopy\n",
    "\n",
    "import nltk\n",
    "import pandas as pd\n",
    "import yaml"
   ]
  },
  {
   "cell_type": "code",
   "execution_count": 15,
   "id": "69483a34",
   "metadata": {},
   "outputs": [],
   "source": [
    "import numpy as np"
   ]
  },
  {
   "cell_type": "code",
   "execution_count": 16,
   "id": "40e2fbd2",
   "metadata": {},
   "outputs": [
    {
     "data": {
      "text/plain": [
       "nan"
      ]
     },
     "execution_count": 16,
     "metadata": {},
     "output_type": "execute_result"
    }
   ],
   "source": [
    "next(iter([]),np.nan)"
   ]
  },
  {
   "cell_type": "code",
   "execution_count": null,
   "id": "071435af-697e-4792-aa11-65a170fd423b",
   "metadata": {},
   "outputs": [],
   "source": [
    "nltk.download(\"stopwords\")\n",
    "from nltk.corpus import stopwords\n",
    "\n",
    "stopwords = set(stopwords.words(\"english\"))"
   ]
  },
  {
   "cell_type": "code",
   "execution_count": null,
   "id": "f4d0994e-8dd9-4718-8188-8f902d498efa",
   "metadata": {},
   "outputs": [],
   "source": [
    "def div_counter(counter1, counter2):\n",
    "    quotient = deepcopy(counter1)\n",
    "    for key in quotient:\n",
    "        if key in counter2:\n",
    "            quotient[key] = counter1[key] / counter2[key]\n",
    "        else:\n",
    "            quotient[key] = 9999\n",
    "    return quotient"
   ]
  },
  {
   "cell_type": "code",
   "execution_count": null,
   "id": "ced614b4-6eb4-4393-b8e0-ad2448e5657e",
   "metadata": {},
   "outputs": [],
   "source": [
    "df = pd.read_csv(\"/home/nlp/adarsh/soprano_nlp_postprocessing/resources/kb/tumor_2.1.csv\")[\n",
    "    [\"name\", \"synonym\"]\n",
    "]"
   ]
  },
  {
   "cell_type": "code",
   "execution_count": null,
   "id": "dfa1d59a-acfb-4fac-9f95-d85b7b3e6b85",
   "metadata": {},
   "outputs": [],
   "source": [
    "keywords_df = (\n",
    "    df.groupby(\"name\")[\"synonym\"]\n",
    "    .agg(\" \".join)\n",
    "    .reset_index()\n",
    "    .assign(synonym=lambda df: df[\"synonym\"].str.split())\n",
    "    .rename(columns={\"synonym\": \"keywords\", \"name\": \"class\"})\n",
    ")\n",
    "keyword_dict = keywords_df.set_index(\"class\").to_dict()[\"keywords\"]"
   ]
  },
  {
   "cell_type": "code",
   "execution_count": null,
   "id": "9a3940b0-cdaf-452f-836b-d777995ef9a6",
   "metadata": {},
   "outputs": [],
   "source": [
    "keyword_count_per_class = {}\n",
    "for class_name, keywords in keyword_dict.items():\n",
    "    rest = deepcopy(keyword_dict)\n",
    "    rest.pop(class_name)\n",
    "    rest_keyword_list = sum(rest.values(), [])\n",
    "    keyword_counter = Counter(keywords)\n",
    "    rest_keyword_counter = Counter(rest_keyword_list)\n",
    "    diff = keyword_counter - rest_keyword_counter\n",
    "    quotient = div_counter(keyword_counter, rest_keyword_counter)\n",
    "    keyword_count_per_class[class_name] = {\"diff\": diff, \"quotient\": quotient}"
   ]
  },
  {
   "cell_type": "code",
   "execution_count": null,
   "id": "ba853e9d-7261-4c2d-a873-a8c1417d0c24",
   "metadata": {},
   "outputs": [],
   "source": [
    "keywords_for_each_class = defaultdict(dict)\n",
    "for class_name, diff_quotient in keyword_count_per_class.items():\n",
    "    diff = diff_quotient[\"diff\"]\n",
    "    quotient = diff_quotient[\"quotient\"]\n",
    "    for word, word_diff in diff.items():\n",
    "        if word_diff >= 2 and quotient[word] >= 10 and word not in stopwords and not word.isnumeric():\n",
    "            keywords_for_each_class[class_name][word] = Counter(keyword_dict[class_name])[word]"
   ]
  },
  {
   "cell_type": "code",
   "execution_count": null,
   "id": "0512099d-eb73-4a27-b455-c476d7da9ffe",
   "metadata": {},
   "outputs": [],
   "source": [
    "def fun():\n",
    "    return defaultdict(set)\n",
    "\n",
    "\n",
    "keywords_as_edge = defaultdict(fun)\n",
    "exclusive_keywords_in_each_class = defaultdict(fun)\n",
    "\n",
    "for class_name, phrases in (\n",
    "    df.groupby(\"name\")[\"synonym\"].agg(list).reset_index().set_index(\"name\").to_dict()[\"synonym\"].items()\n",
    "):\n",
    "    for phrase in phrases:\n",
    "        for keyword in sorted(\n",
    "            keywords_for_each_class[class_name],\n",
    "            key=lambda x: keywords_for_each_class[class_name][x],\n",
    "            reverse=True,\n",
    "        ):\n",
    "            if keyword in phrase:\n",
    "                keywords_as_edge[class_name][phrase].add(keyword)\n",
    "                exclusive_keywords_in_each_class[class_name][keyword].add(phrase)\n",
    "                # break"
   ]
  },
  {
   "cell_type": "code",
   "execution_count": null,
   "id": "7d740a8e-0a84-40ba-9abd-77e38c96e405",
   "metadata": {},
   "outputs": [],
   "source": [
    "edges_as_tuples = {\n",
    "    class_name: [tuple(i) for i in value.values()] for class_name, value in keywords_as_edge.items()\n",
    "}"
   ]
  },
  {
   "cell_type": "code",
   "execution_count": null,
   "id": "b461b4c7-8e20-4a08-9573-bb2be667f204",
   "metadata": {},
   "outputs": [],
   "source": [
    "import numpy as np\n",
    "from sklearn.preprocessing import MultiLabelBinarizer"
   ]
  },
  {
   "cell_type": "code",
   "execution_count": null,
   "id": "1c106e84-a975-4bc7-837e-1b6278775e57",
   "metadata": {},
   "outputs": [],
   "source": [
    "mlb = MultiLabelBinarizer()"
   ]
  },
  {
   "cell_type": "code",
   "execution_count": null,
   "id": "672051e8-9033-4818-acdf-99e0e56d153f",
   "metadata": {},
   "outputs": [],
   "source": [
    "def calculate_diff(i):\n",
    "    weight_per_column = np.sum(weight[weight[:, i] == 1].sum(axis=1) > 1)\n",
    "    number_of_occurences = len(weight[weight[:, i] == 1].sum(axis=1))\n",
    "    bonus = 1 if i not in visited else 0\n",
    "    return number_of_occurences - weight_per_column + bonus"
   ]
  },
  {
   "cell_type": "code",
   "execution_count": null,
   "id": "375f6411-dd89-4a41-8f48-7d7aabb077ec",
   "metadata": {},
   "outputs": [],
   "source": [
    "regex_kb = defaultdict(list)\n",
    "for key in edges_as_tuples:\n",
    "    weight = mlb.fit_transform(edges_as_tuples[key])\n",
    "    classes = list(mlb.classes_)\n",
    "    visited = set()\n",
    "\n",
    "    while True:\n",
    "        diff = max([calculate_diff(i) for i in range(len(classes))])\n",
    "        if diff == 0:\n",
    "            break\n",
    "        i = max(range(len(classes)), key=calculate_diff)\n",
    "        visited.add(i)\n",
    "        regex_kb[key].append(classes[i].replace(\"(\", \"\"))\n",
    "        weight[weight[:, i] == 1] = 0\n",
    "        for j in np.arange(len(classes))[np.sum(weight, axis=0) == 0]:\n",
    "            visited.add(j)"
   ]
  },
  {
   "cell_type": "code",
   "execution_count": null,
   "id": "faf8d295-a82a-43ee-93b5-77c2b715d1ed",
   "metadata": {},
   "outputs": [],
   "source": [
    "dict(regex_kb)"
   ]
  },
  {
   "cell_type": "code",
   "execution_count": null,
   "id": "d597c5b2-23d1-4258-b4a2-ff402f58d9fa",
   "metadata": {},
   "outputs": [],
   "source": [
    "import pandas as pd\n",
    "import polars as pl"
   ]
  },
  {
   "cell_type": "code",
   "execution_count": null,
   "id": "ff9e92eb-f2c6-4990-912c-60eb90b62381",
   "metadata": {},
   "outputs": [],
   "source": [
    "df_pl = pl.read_parquet(\"/home/nlp/adarsh/soprano_nlp_postprocessing/data/master_with_element.parquet\")\n",
    "df = pd.read_parquet(\"/home/nlp/adarsh/soprano_nlp_postprocessing/data/master_with_element.parquet\")"
   ]
  },
  {
   "cell_type": "code",
   "execution_count": null,
   "id": "c1dc8982-ec38-4e37-8f68-8c8224ab8ca3",
   "metadata": {},
   "outputs": [],
   "source": [
    "df_pl.drop(\"nlp_decision_flag\").unique()"
   ]
  },
  {
   "cell_type": "code",
   "execution_count": null,
   "id": "61c31c2b-f0a0-4196-b6c8-5d87d07237c8",
   "metadata": {},
   "outputs": [],
   "source": [
    "df_pl = df_pl.lazy()"
   ]
  },
  {
   "cell_type": "code",
   "execution_count": null,
   "id": "8e6177bb-c39f-40c6-bb4a-69aece212afb",
   "metadata": {},
   "outputs": [],
   "source": [
    "# %%timeit\n",
    "regex = [pl.col(\"context\")] + [\n",
    "    pl.col(\"context\").str.contains(\"|\".join(regex_kb[cancer])).alias(cancer) for cancer in regex_kb\n",
    "]\n",
    "(\n",
    "    df_pl.unique([\"context\"])\n",
    "    .select(regex)\n",
    "    .melt(id_vars=\"context\", value_vars=[cancer for cancer in regex_kb])\n",
    "    .filter(pl.col(\"value\"))\n",
    "    .groupby(\"context\")\n",
    "    .agg(pl.col(\"variable\").unique().alias(\"cancer_prediction\"))\n",
    "    .join(df_pl, on=[\"context\"], how=\"inner\")\n",
    "    .unique(list(df_pl.columns))\n",
    "    .explode(\"cancer_prediction\")\n",
    "    .filter(pl.col(\"cancer_prediction\").is_not_null())\n",
    "    # .collect()\n",
    ")"
   ]
  },
  {
   "cell_type": "code",
   "execution_count": null,
   "id": "1ee3fbe9-c5bc-49dd-a975-bdf17674c114",
   "metadata": {},
   "outputs": [],
   "source": [
    "df"
   ]
  },
  {
   "cell_type": "code",
   "execution_count": null,
   "id": "81703eea-c78c-420b-8373-1355eb77baee",
   "metadata": {},
   "outputs": [],
   "source": [
    "%%timeit\n",
    "for cancer in regex_kb:\n",
    "    df[cancer] = df[\"prediction\"].str.contains(\"|\".join(regex_kb[cancer]))"
   ]
  },
  {
   "cell_type": "code",
   "execution_count": null,
   "id": "84781b00-a3eb-43cd-8eed-6eed69803c9e",
   "metadata": {},
   "outputs": [],
   "source": [
    "177 / 4.74"
   ]
  },
  {
   "cell_type": "code",
   "execution_count": 2,
   "id": "b04e1a3b-e4f0-4f68-be5f-1c9c7c5d396e",
   "metadata": {},
   "outputs": [],
   "source": [
    "import pandas as pd\n",
    "\n",
    "df = pd.read_excel(\"/Users/adarshgupta/Downloads/DocFinder Labels 082023.xlsx\")"
   ]
  },
  {
   "cell_type": "code",
   "execution_count": 3,
   "id": "a601cf11-6b93-4e64-8553-f3c4880106dc",
   "metadata": {},
   "outputs": [],
   "source": [
    "df.to_parquet(\"/Users/adarshgupta/projects/learn_rust/test.parquet\")"
   ]
  },
  {
   "cell_type": "code",
   "execution_count": 3,
   "id": "32af4a59",
   "metadata": {},
   "outputs": [],
   "source": [
    "with open(\"../data/comorbity.txt\") as f:\n",
    "    texts = f.readlines()\n",
    "    texts = [text.strip() for text in texts if text.strip()]"
   ]
  },
  {
   "cell_type": "code",
   "execution_count": 22,
   "id": "db57f5d7",
   "metadata": {},
   "outputs": [],
   "source": [
    "from rapidfuzz.utils import default_process\n",
    "\n",
    "texts = [\" \".join(default_process(text).split())+\"\\n\" for text in texts]"
   ]
  },
  {
   "cell_type": "code",
   "execution_count": 26,
   "id": "eaddd018",
   "metadata": {},
   "outputs": [
    {
     "data": {
      "text/plain": [
       "['aids',\n",
       " 'aids hiv infection opportunistic infection',\n",
       " 'hiv infection symptomatic',\n",
       " 'hiv patient with candidiasis of bronchi trachea esophagus or lungs',\n",
       " 'hiv patient with coccidioidomycosis',\n",
       " 'hiv patient with cryptococcosis',\n",
       " 'hiv patient with cryptosporidiosis chronic intestinal greater than 1 month s duration',\n",
       " 'hiv patient with cytomegalovirus disease particularly cmv retinitis',\n",
       " 'hiv patient with encephalopahty hiv related',\n",
       " 'hiv patient with herpes simplex bronchitis pneumonitis or esophagitis',\n",
       " 'hiv patient with histoplasmosis',\n",
       " 'hiv patient with invasive cervical cancer',\n",
       " 'hiv patient with isosporiasis chronic intestinal',\n",
       " 'hiv patient with kaposi s sarcoma',\n",
       " 'hiv patient with lymphoma that is burkitt s type immunoblastic or that is primary and affects the brain or central nervous system',\n",
       " 'hiv patient with mycobacterium avium infection',\n",
       " 'hiv patient with pneumocystis carinii pneumonia',\n",
       " 'hiv patient with pneumonia recurrent',\n",
       " 'hiv patient with progressive multifocal encephalopathy',\n",
       " 'hiv patient with salmonella septicemia recurrent',\n",
       " 'hiv patient with toxoplasmosis of brain',\n",
       " 'hiv patient with tuberculosis',\n",
       " 'wasting syndrome due to hiv',\n",
       " 'hiv positive with mention of not aids or no opportunistic infection as listed above',\n",
       " 'hiv with no opportunistic infection',\n",
       " 'hiv asymptomatic',\n",
       " 'hiv positive with no mention of opportunistic infection as listed above',\n",
       " 'age related cognitive decline',\n",
       " 'alzheimer s or other dementia',\n",
       " 'age related physical debility',\n",
       " 'alzheimer s',\n",
       " 'amnestic disorder',\n",
       " 'catatonic disorder',\n",
       " 'cerebral degeneration',\n",
       " 'dementia',\n",
       " 'presenile dementia',\n",
       " 'senile degermation of brain',\n",
       " 'senile dementia',\n",
       " 'systemic atrophy primarily affecting central nervous system',\n",
       " 'addison s disease',\n",
       " 'autoimmune disease',\n",
       " 'adult still s disease',\n",
       " 'agammaglobulinemia',\n",
       " 'alopecia areata',\n",
       " 'antiphospholipid syndrome',\n",
       " 'autoimmune hepatitis',\n",
       " 'behcet s disease',\n",
       " 'benign mucosal pemphigoid',\n",
       " 'bullous pemphigoid',\n",
       " 'celiac disease',\n",
       " 'chagas disease',\n",
       " 'chronic inflammatory demyelinating polyneuropathy cidp',\n",
       " 'chronic recurrent multifocal osteomyelitis crmo',\n",
       " 'churg strauss syndrome css or eosinophilic granulomatosis egpa',\n",
       " 'cicatricial pemphigoid',\n",
       " 'dermatitis herpetiformis',\n",
       " 'dermatomyositis',\n",
       " 'devic s disease neuromyelitis optica',\n",
       " 'diffuse eosinophilic fasciitis',\n",
       " 'discoid lupus',\n",
       " 'dressler s syndrome',\n",
       " 'evans syndrome',\n",
       " 'felty s syndrome',\n",
       " 'giant cell arteritis with polymyalgia rheumatica',\n",
       " 'goodpasture s syndrome',\n",
       " 'granulomatosis with polyangiitis',\n",
       " 'graves disease',\n",
       " 'guillain barre syndrome',\n",
       " 'hashimoto s thyroiditis',\n",
       " 'autoimmune disease',\n",
       " 'immune thrombocytopenic purpura itp',\n",
       " 'inclusion body myositis ibm',\n",
       " 'interstitial cystitis ic',\n",
       " 'juvenile arthritis',\n",
       " 'kawasaki disease',\n",
       " 'lambert eaton syndrome',\n",
       " 'lyme disease chronic',\n",
       " 'microscopic polyangiitis mpa',\n",
       " 'multifocal motor neuropathy mmn or mmncb',\n",
       " 'multiple sclerosis',\n",
       " 'myasthenia gravis',\n",
       " 'narcolepsy neuromyelitis optica',\n",
       " 'palindromic rheumatism pr',\n",
       " 'pemphigus',\n",
       " 'polyarteritis nodosa',\n",
       " 'polymyalgia rheumatica',\n",
       " 'polymyositis',\n",
       " 'postmyocardial infarction syndrome',\n",
       " 'primary biliary cirrhosis',\n",
       " 'psoriasis',\n",
       " 'psoriatic arthritis',\n",
       " 'reactive arthritis',\n",
       " 'relapsing polychondritis',\n",
       " 'relapsing polychondritis',\n",
       " 'rheumatic fever',\n",
       " 'rheumatoid arthritis',\n",
       " 'rheumatoid lung',\n",
       " 'schmidt syndrome',\n",
       " 'scleroderma',\n",
       " 'sicca syndrome',\n",
       " 'stiff person syndrome sps',\n",
       " 'takayasu s arteritis',\n",
       " 'type 1 diabetes',\n",
       " 'ulcerative colitis uc',\n",
       " 'vogt koyanagi harada disease',\n",
       " 'cva',\n",
       " 'cerebrovascular accident including history of tias',\n",
       " 'cerebrovascular disease',\n",
       " 'central retinal artery occlusion',\n",
       " 'cerebral aneurysm',\n",
       " 'cerebral infarction',\n",
       " 'intracerebral hemorrhage',\n",
       " 'intracranial hemorrhage',\n",
       " 'occlusion and stenosis of cerebral arteries and precerebral arteries',\n",
       " 'transient cerebral ischemia',\n",
       " 'chronic airway obstruction',\n",
       " 'retinal artery occlusions',\n",
       " 'stroke',\n",
       " 'subarachnoid hemorrhage',\n",
       " 'transient ischemic attack',\n",
       " 'transient retinal artery occlusion',\n",
       " 'asbestosis',\n",
       " 'asthma',\n",
       " 'bronchiectasis',\n",
       " 'copd',\n",
       " 'chronic bronchitis',\n",
       " 'chronic drug induced interstitial lung disorders',\n",
       " 'coal workers pneumoconiosis',\n",
       " 'chronic obstructive pulmonary disease including chronic bronchitis or emphysema',\n",
       " 'emphysema explicitly stated diagnosed not just mentioned on a scan',\n",
       " 'extrinsic allergic alveolitis',\n",
       " 'hypersensitivity pneumonitis due to organic dust',\n",
       " 'pneumoconiosis',\n",
       " 'simple and mucopurulent chronic bronchitis',\n",
       " 'status asthmaticus',\n",
       " 'alcoholic cardiomyopathy',\n",
       " 'cardiomyopathy',\n",
       " 'congestive heart failure history of treatment for',\n",
       " 'chf',\n",
       " 'heart failure',\n",
       " 'hypertensive heart disease with heart failure',\n",
       " 'ischemic cardiomyopathy',\n",
       " 'malignant hypertensive heart disease with heart failure',\n",
       " 'nutritional and metabolic cardiomyopathy',\n",
       " 'rheumatic heart failure congestive',\n",
       " 'lupus',\n",
       " 'connective tissue disease',\n",
       " 'mixed connective tissue disease',\n",
       " 'sarcoidosis',\n",
       " 'sjögren s syndrome',\n",
       " 'systemic vasculitis',\n",
       " 'diabetes with neurological manifestations',\n",
       " 'diabetes with chronic complications',\n",
       " 'diabetes with ophthalmic complications',\n",
       " 'diabetes with peripheral circulatory disorders',\n",
       " 'diabetes with renal manifestations',\n",
       " 'diabetes with mention of no complication',\n",
       " 'diabetes without chronic complications',\n",
       " 'drug or chemical induced diabetes mellitus',\n",
       " 'type 2 diabetes mellitus',\n",
       " 'diabetes mellitus without mention of complications stated above',\n",
       " 'cerebral palsy',\n",
       " 'hemiplegia',\n",
       " 'hemiparesis',\n",
       " 'hemiplegia',\n",
       " 'other paralytic syndromes',\n",
       " 'paraplegia',\n",
       " 'quadriparesis',\n",
       " 'quadriplegia',\n",
       " 'chronic lymphocytic leukemia',\n",
       " 'chronic myeloid leukemia',\n",
       " 'leukemia other than aml',\n",
       " 'acute lymphocytic leukemia',\n",
       " 'any hepatitis cirrhosis fatty liver liver fibrosis or liver disease that cannot be categorized as moderate or severe',\n",
       " 'liver disease mild',\n",
       " 'portal hypertension without mention of variceal bleeding',\n",
       " 'esophageal varices without mention of bleeding',\n",
       " 'gastric varices without mention of bleeding',\n",
       " 'liver disease moderate',\n",
       " 'hepatic veno occlusive disease',\n",
       " 'hepatorenal syndrome',\n",
       " 'toxic liver disease with hepatic necrosis',\n",
       " 'hepatic failure',\n",
       " 'esophageal varices with bleeding',\n",
       " 'gastric varices with bleeding',\n",
       " 'liver disease severe',\n",
       " 'hepatic encephalopathy',\n",
       " 'needs or history of liver transplant',\n",
       " 'any end stage or severe liver condition',\n",
       " 'hodgkin lymphoma',\n",
       " 'non hodgkins lymphoma follicular lymphoma',\n",
       " 'lymphoma',\n",
       " 'lymphosarcoma',\n",
       " 't cell lymphoma',\n",
       " 'waldenstrom s macroglobulinemia',\n",
       " 'myeloma',\n",
       " 'b cell lymphoma',\n",
       " 'ensure the other tumor is stated as metastatic',\n",
       " 'metastatic solid tumor other than tumor type any history of',\n",
       " 'history of mi',\n",
       " 'heart attack',\n",
       " 'myocardial infarction any history of',\n",
       " 'stemi nstemi',\n",
       " 'chronic glomerulonephritis',\n",
       " 'chronic kidney disease unspecified',\n",
       " 'chronic nephritic syndrome',\n",
       " 'kidney disease with unknown stage or severity',\n",
       " 'kidney replaced by transplant',\n",
       " 'nephritis nephropathy',\n",
       " 'unspecified nephritic syndrome',\n",
       " 'unspecified kidney disease',\n",
       " 'chronic kidney disease stage 1',\n",
       " 'chronic kidney disease stage 1',\n",
       " 'chronic kidney disease stage 2',\n",
       " 'chronic kidney disease stage 2',\n",
       " 'chronic kidney disease stage 3',\n",
       " 'chronic kidney disease stage 3',\n",
       " 'chronic kidney disease stage 4',\n",
       " 'chronic kidney disease stage 4',\n",
       " 'chronic kidney disease stage 5',\n",
       " 'chronic kidney disease stage 5',\n",
       " 'dependence on renal dialysis',\n",
       " 'end stage renal disease',\n",
       " 'renal failure nos',\n",
       " 'renal osteodystrophy',\n",
       " 'any severe or end stage renal condition',\n",
       " 'aneurysm of aorta',\n",
       " 'surgical treatment for peripheral vascular disease history of',\n",
       " 'angioplasty',\n",
       " 'aortitis',\n",
       " 'arterial embolism and thrombosis',\n",
       " 'atherosclerosis',\n",
       " 'arterial dissection',\n",
       " 'balloon angioplasty stenting non cardiac',\n",
       " 'bypass grafting non cardiac',\n",
       " 'chronic vascular disorders of intestine',\n",
       " 'gangrene',\n",
       " 'other disorders of arteries arterioles and capillaries in diseases classified elsewhere',\n",
       " 'peripheral vascular disease unspecified',\n",
       " 'presence of vascular implants and grafts non cardiac',\n",
       " 'stricture of artery',\n",
       " 'thromboangitis obliterans buerger s disease',\n",
       " 'vascular disorder of intestine unspecified',\n",
       " 'gastric ulcer',\n",
       " 'ulcer disease do not include gerd or ulcerative colitis',\n",
       " 'gastrojejunal ulcer',\n",
       " 'peptic ulcer disease',\n",
       " 'duodenal ulcer',\n",
       " 'peptic ulcer unspecified']"
      ]
     },
     "execution_count": 26,
     "metadata": {},
     "output_type": "execute_result"
    }
   ],
   "source": [
    "texts"
   ]
  },
  {
   "cell_type": "code",
   "execution_count": 23,
   "id": "0f7ae141",
   "metadata": {},
   "outputs": [],
   "source": [
    "with open(\"../data/comorbity.txt\",\"w\") as f:\n",
    "    f.writelines(texts)"
   ]
  },
  {
   "cell_type": "code",
   "execution_count": 4,
   "id": "295435c1",
   "metadata": {},
   "outputs": [],
   "source": [
    "from sentence_transformers import SentenceTransformer\n",
    "\n",
    "# model = SentenceTransformer('sentence-transformers/all-mpnet-base-v2')\n",
    "model = SentenceTransformer('pritamdeka/S-PubMedBert-MS-MARCO')\n",
    "\n",
    "embeddings = model.encode(texts)\n",
    "\n"
   ]
  },
  {
   "cell_type": "code",
   "execution_count": 5,
   "id": "030db886",
   "metadata": {},
   "outputs": [],
   "source": [
    "texts_emd = {text:emd for text,emd in zip(texts,embeddings)}"
   ]
  },
  {
   "cell_type": "code",
   "execution_count": 10,
   "id": "cc053377",
   "metadata": {},
   "outputs": [
    {
     "data": {
      "text/plain": [
       "['hypertensive heart disease with heart failure',\n",
       " 'cardiomyopathy',\n",
       " 'ischemic cardiomyopathy',\n",
       " 'stroke',\n",
       " 'rheumatic heart failure congestive',\n",
       " 'stemi nstemi',\n",
       " 'aortitis',\n",
       " 'malignant hypertensive heart disease with heart failure',\n",
       " 'atherosclerosis',\n",
       " 'alcoholic cardiomyopathy']"
      ]
     },
     "execution_count": 10,
     "metadata": {},
     "output_type": "execute_result"
    }
   ],
   "source": [
    "import numpy as np\n",
    "source_text = \"systolic\"\n",
    "source_emd = model.encode(source_text)\n",
    "sorted(texts,key=lambda i :(texts_emd[i]@source_emd)/np.sqrt((texts_emd[i]@texts_emd[i]) * (source_emd@source_emd)),reverse=True )[:10]"
   ]
  },
  {
   "cell_type": "code",
   "execution_count": null,
   "id": "9b23ea3f",
   "metadata": {},
   "outputs": [],
   "source": [
    "{' diverticulosis': 1,\n",
    "'peripheral': 1,\n",
    "'neuropathy': 1,\n",
    "'neop]': 1,\n",
    "'anxiety': 1,\n",
    "'marrow': 1,\n",
    "'tear': 1,\n",
    "'urinary': 1,\n",
    "'tendon': 1,\n",
    "'hyperkalemia': 1,\n",
    "'sinusitis': 1,\n",
    "'trouble': 1,\n",
    "'gall': 1,\n",
    "'stones': 1,\n",
    "'bcc': 1,\n",
    "'reccurant': 1,\n",
    "'arthropathies': 1,\n",
    "'vitamin': 1,\n",
    "'macrocytosis': 1,\n",
    "'the': 1,\n",
    "'disorder': 1,\n",
    "'depression': 1,\n",
    "'description': 1,\n",
    "'vaginal': 1,\n",
    "'illness': 1,\n",
    "'adenosis': 1,\n",
    "'sores': 1,\n",
    "'illnesses': 1,\n",
    "'spinal': 1,\n",
    "'hypertension': 1,\n",
    "'osteoarthritis': 1,\n",
    "'prolapse': 1,\n",
    "'systolic': 1,\n",
    "'2/pelvic': 1,\n",
    "}"
   ]
  }
 ],
 "metadata": {
  "kernelspec": {
   "display_name": "Python 3 (ipykernel)",
   "language": "python",
   "name": "python3"
  },
  "language_info": {
   "codemirror_mode": {
    "name": "ipython",
    "version": 3
   },
   "file_extension": ".py",
   "mimetype": "text/x-python",
   "name": "python",
   "nbconvert_exporter": "python",
   "pygments_lexer": "ipython3",
   "version": "3.1.0"
  }
 },
 "nbformat": 4,
 "nbformat_minor": 5
}
